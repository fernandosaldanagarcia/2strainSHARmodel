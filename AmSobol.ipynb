{
 "cells": [
  {
   "cell_type": "markdown",
   "id": "fe5660db",
   "metadata": {},
   "source": [
    "## Global sensitivity analysis using Sobol's method"
   ]
  },
  {
   "cell_type": "markdown",
   "id": "36efda4a",
   "metadata": {},
   "source": [
    "Here, we perform a global sensitivity analysis for the endemic equilibria (for the states variable $H_w$, $A_w$, $H_m$, $A_m$) of the two-strain SHAR model proposed by Saldana et al."
   ]
  },
  {
   "cell_type": "code",
   "execution_count": 1,
   "id": "c6ca3853",
   "metadata": {},
   "outputs": [],
   "source": [
    "# Import the necessary libraries\n",
    "\n",
    "from __future__ import division\n",
    "import pylab as pl\n",
    "import numpy as np\n",
    "from scipy.integrate import odeint\n",
    "from SALib.sample import saltelli\n",
    "from SALib.analyze import sobol\n",
    "\n",
    "import matplotlib.pyplot as plt"
   ]
  },
  {
   "cell_type": "markdown",
   "id": "7bbe7941",
   "metadata": {},
   "source": [
    "### Code chunk 1: Setting the parameters and IC "
   ]
  },
  {
   "cell_type": "code",
   "execution_count": 2,
   "id": "ba12b28b",
   "metadata": {},
   "outputs": [
    {
     "name": "stdout",
     "output_type": "stream",
     "text": [
      "Wild-type R0 1.9950000000000003\n",
      "Mutant-type R0 2.6999999999999997\n"
     ]
    }
   ],
   "source": [
    "N = 100000\n",
    "Hw0 = 1000 # IC 10 # EE 52000\n",
    "Aw0 = 2000 # IC 10 # EE 63000\n",
    "Hm0 = 50\n",
    "Am0 = 50 \n",
    "S0 = N - Hw0 -Aw0 - Hm0 - Am0\n",
    "R0 = 0\n",
    "\n",
    "\"\"\"\n",
    "   model parameters\n",
    "\"\"\"\n",
    "\n",
    "gammaW = 1/5  # base gamma_w=1/20 =0.05\n",
    "gammaM = 1/7  # base gamma_m=0.05\n",
    "alpha = 1/10 # a/alpha = mean duration of natural immunity\n",
    "\n",
    "beta_w = 1.5*gammaW # transmission rate wild type 1.2\n",
    "phi_w = 1.6 # change of infectivity Aw versus the infectivity of Hw\n",
    "\n",
    "beta_m = 1.5*gammaM # transmission rate mutant 1.4\n",
    "phi_m = 2.0 # change of infectivity Am versus the infectivity of Hm\n",
    "\n",
    "eta_w =0.45 # fraction that develops severe disease after wild-type infection \n",
    "eta_m =0.2 # fraction that develops severe disease after mutant infection\n",
    "\n",
    "eps = 0.0001 # fraction of infections that mutate\n",
    "\n",
    "rho = 1e-5 # spillover transmission rate \n",
    "\n",
    "\n",
    "R0w = (eta_w + (1-eta_w)*phi_w)*beta_w/gammaW\n",
    "print('Wild-type R0', R0w)\n",
    "\n",
    "R0m = (eta_m + (1-eta_m)*phi_m)*beta_m/gammaM\n",
    "print('Mutant-type R0', R0m)"
   ]
  },
  {
   "cell_type": "markdown",
   "id": "f763a150",
   "metadata": {},
   "source": [
    "### Code chunk 2: Define the model equations in terms of the parameter x of interest"
   ]
  },
  {
   "cell_type": "code",
   "execution_count": 3,
   "id": "5870ecce",
   "metadata": {},
   "outputs": [],
   "source": [
    "# Define the model equations\n",
    "\n",
    "def model(y, t, x):\n",
    "    S, Hw, Aw, Hm, Am, R=y\n",
    "    gammaW = x[0]\n",
    "    gammaM = x[1]\n",
    "    alpha = x[2]\n",
    "    beta_w = x[3]\n",
    "    phi_w = x[4]\n",
    "    beta_m = x[5]\n",
    "    phi_m = x[6]\n",
    "    eta_w = x[7]\n",
    "    eta_m = x[8]\n",
    "    eps = x[9]\n",
    "    rho = x[10]\n",
    "    # Equations\n",
    "    dSdt = -beta_w*(S/N)*(Hw + phi_w*Aw + rho*N) - beta_m*(S/N)*(Hm + phi_m*Am) + alpha*R\n",
    "    dHwdt = eta_w*(1.-eps)*beta_w*(S/N)*(Hw + phi_w*Aw + rho*N) - gammaW*Hw\n",
    "    dAwdt = (1.-eta_w)*(1.-eps)*beta_w*(S/N)*(Hw + phi_w*Aw + rho*N) - gammaW*Aw\n",
    "    dHmdt = eta_m*beta_m*(S/N)*(Hm + phi_m*Am) + eta_w*eps*beta_w*(S/N)*(Hw + phi_w*Aw + rho*N) - gammaM*Hm\n",
    "    dAmdt = (1.-eta_m)*beta_m*(S/N)*(Hm + phi_m*Am) + (1.-eta_w)*eps*beta_w*(S/N)*(Hw + phi_w*Aw + rho*N) - gammaM*Am\n",
    "    dRdt = gammaW*(Hw + Aw) + gammaM*(Hm + Am) - alpha*R\n",
    "    return dSdt, dHwdt, dAwdt, dHmdt, dAmdt, dRdt\n",
    "\n",
    "\n",
    "\n",
    "# A grid of time points (in days)\n",
    "t = np.linspace(0, 500, 501)\n",
    "\n",
    "# Initial conditions vector\n",
    "y0 = S0, Hw0, Aw0, Hm0, Am0, R0\n",
    "\n",
    "# parameters\n",
    "x = (gammaW, gammaM, alpha, beta_w, phi_w, beta_m, phi_m, eta_w, eta_m, eps, rho)\n",
    "\n",
    "# Solution of the model\n",
    "sol = odeint(model, y0, t, args=(x,))\n",
    "S, Hw, Aw, Hm, Am, R = sol.T\n",
    "\n",
    "plt.style.use('seaborn')\n",
    "\n"
   ]
  },
  {
   "cell_type": "markdown",
   "id": "360ce2ff",
   "metadata": {},
   "source": [
    "### Define the quantity of interest ($A_{w}^{*}$) in terms of a vector of parameters $x$. The vector $x$ are the parameters for the sensitivity exploration."
   ]
  },
  {
   "cell_type": "code",
   "execution_count": 4,
   "id": "610e894e",
   "metadata": {},
   "outputs": [],
   "source": [
    "# Defining HwStar as the Hw[-1] for long time\n",
    "\n",
    "def AmStar(x):\n",
    "    sol = odeint(model, y0, t, args=(x,))\n",
    "    S, Hw, Aw, Hm, Am, R = sol.T\n",
    "    return Am[-1]/N"
   ]
  },
  {
   "cell_type": "markdown",
   "id": "5f78eb88",
   "metadata": {},
   "source": [
    "### Code chunk 3: Defining sensitivy ranges"
   ]
  },
  {
   "cell_type": "code",
   "execution_count": 5,
   "id": "9c889099",
   "metadata": {},
   "outputs": [],
   "source": [
    "#-define a function to evaluate the values of the parameters in R0\n",
    "     \n",
    "def evaluate(values):\n",
    "    Y = np.empty([values.shape[0]])\n",
    "    for i, X in enumerate(values):\n",
    "        Y[i] = AmStar(X)\n",
    "    return Y\n",
    "\n",
    "\n",
    "\n",
    "#-define the ranges for the parameters in x\n",
    "    \n",
    "problem = {\n",
    "'num_vars': 11,  # number of parameters \n",
    "'names': ['gammaW', 'gammaM', 'alpha','beta_w','phi_w', 'beta_m', 'phi_m', 'eta_w', 'eta_m', 'eps', 'rho'], \n",
    "'bounds': [[1/7, 1/5],[1/10, 1/5],[1/60, 1/30],[1/7, (1/7)*4],[1, 2.5], [1/5, (1/5)*5], \n",
    "           [1.2, 3.0], [0.2, 0.8], [0.05, 0.5], [1e-5, 1e-1], [1e-6, 1e-2]] #ranges\n",
    "}\n"
   ]
  },
  {
   "cell_type": "markdown",
   "id": "4385b79a",
   "metadata": {},
   "source": [
    "### Code chunk 5: Computing the indices"
   ]
  },
  {
   "cell_type": "code",
   "execution_count": null,
   "id": "5c8d9140",
   "metadata": {},
   "outputs": [
    {
     "name": "stderr",
     "output_type": "stream",
     "text": [
      "/opt/anaconda3/lib/python3.9/site-packages/SALib/sample/saltelli.py:94: UserWarning: \n",
      "        Convergence properties of the Sobol' sequence is only valid if\n",
      "        `N` (10000) is equal to `2^n`.\n",
      "        \n",
      "  warnings.warn(msg)\n"
     ]
    }
   ],
   "source": [
    "# ------------Generate samples\n",
    "\n",
    "number_of_samples = 10000\n",
    "param_values = saltelli.sample(problem, number_of_samples, calc_second_order=True)\n",
    "# problem represents our parameters ranges defined above\n",
    "# calc_second_order=True is to compute second order indices\n",
    "\n",
    "\n",
    "# ------------Run model (example)\n",
    "\n",
    "Y = evaluate(param_values)\n",
    "print(Y)\n",
    "\n",
    "\n",
    "# ------------Perform analysis\n",
    "Si = sobol.analyze(problem, Y, print_to_console=True)\n",
    "#Si = sobol.analyze(problem, Y, print_to_console=False)\n",
    "# Returns a dictionary with keys 'S1', 'S1_conf', 'ST', and 'ST_conf'\n",
    "# (first and total-order indices with bootstrap confidence intervals)\n",
    "\n",
    "\n",
    "# -------------Printing some results\n",
    "print(\"First Order Indices\", Si['S1'])\n",
    "print(\"Total Order Indices\", Si['ST'])"
   ]
  },
  {
   "cell_type": "markdown",
   "id": "9da1082c",
   "metadata": {},
   "source": [
    "### Code chunk 6: Plotting the results"
   ]
  },
  {
   "cell_type": "code",
   "execution_count": 34,
   "id": "d0ce7c0f",
   "metadata": {},
   "outputs": [
    {
     "data": {
      "image/png": "[encoded data removed]",
      "text/plain": [
       "<Figure size 900x300 with 2 Axes>"
      ]
     },
     "metadata": {},
     "output_type": "display_data"
    }
   ],
   "source": [
    "#---------------------- Bar plot for the Sobol indices\n",
    "\n",
    "n = len(Si['S1'])\n",
    "FirstOrder = Si['S1']\n",
    "TotalOrder = Si['ST']\n",
    "FOconf = Si['S1_conf']\n",
    "TOconf = Si['ST_conf']\n",
    "ind = np.arange(n)   # the x locations for the groups\n",
    "width = 0.5     # the width of the bars: can also be len(x) sequence\n",
    "\n",
    "fig, (ax1, ax2) = plt.subplots(figsize=(9,3), ncols=2, nrows=1, sharex=False, sharey=False, constrained_layout=True)\n",
    "\n",
    "#-------------------- Sobol indices\n",
    "\n",
    "p1 = ax1.bar(ind, FirstOrder, width, yerr=FOconf)\n",
    "p2 = ax1.bar(ind+width, TotalOrder, width, yerr=TOconf)\n",
    "#p1 = plt.bar(ind, FirstOrder, width, align='center', color='#d62728', yerr=FOconf)\n",
    "#p2 = plt.bar(ind, TotalOrder, width, align='center', bottom=FirstOrder, yerr=TOconf)\n",
    "\n",
    "ax1.set_ylabel('Sensitivity indices')\n",
    "ax1.set_title(r'Sobol indices for $A_{m}^{*}$')\n",
    "\n",
    "ax1.set_xticks(ind+width/2)\n",
    "ax1.set_xticklabels((r'$\\gamma_w$', r'$\\gamma_m$', r'$\\alpha$', r'$\\beta_w$', r'$\\phi_w$',\n",
    "                   r'$\\beta_m$', r'$\\phi_m$', r'$\\eta_w$', r'$\\eta_m$', r'$\\epsilon$', r'$\\rho$'))\n",
    "ax1.legend((p1[0], p2[0]), ('First Order', 'Total Order'))\n",
    "\n",
    "\n",
    "# -------------------------the histogram of the data\n",
    "\n",
    "ax2.hist(Y, bins=50, color='blue', alpha=0.7)\n",
    "ax2.set_ylabel('Frequency')\n",
    "#ax2.set_xlabel('$H_{w}^{*}/N$ value')\n",
    "ax2.set_title(r'$A_{m}^{*}/N$')\n",
    "ax2.set_xlim([-0.001, 0.2])\n",
    "\n",
    "#plt.savefig(\"AmSobol.pdf\", bbox_inches = 'tight')\n",
    "\n",
    "plt.show()"
   ]
  },
  {
   "cell_type": "code",
   "execution_count": null,
   "id": "9f53fd2c",
   "metadata": {},
   "outputs": [],
   "source": []
  }
 ],
 "metadata": {
  "kernelspec": {
   "display_name": "Python 3 (ipykernel)",
   "language": "python",
   "name": "python3"
  },
  "language_info": {
   "codemirror_mode": {
    "name": "ipython",
    "version": 3
   },
   "file_extension": ".py",
   "mimetype": "text/x-python",
   "name": "python",
   "nbconvert_exporter": "python",
   "pygments_lexer": "ipython3",
   "version": "3.9.7"
  }
 },
 "nbformat": 4,
 "nbformat_minor": 5
}
